{
 "cells": [
  {
   "cell_type": "markdown",
   "id": "0b46610a",
   "metadata": {},
   "source": [
    "# id()\n",
    "\n",
    " 1. It is a built-in function in Python3 which returns the identity of any Python object. This will return an integer identification number for different objects or the address of the object in memory.\n",
    "\n",
    "2. This function takes any Python object – be it an integer, float, string, list, Class, function, lambda, etc, and returns an integer id.\n",
    "\n",
    "3. The id of an object is useful for Python to cache the values of those variables. This mechanism of retrieving cached values using id() makes Python perform better!\n",
    "\n",
    "4. This also helps in cases where multiple variables refer to the same object.\n",
    "\n",
    "5. Lists are mutable objects, so caching will not work here!\n",
    "\n",
    "\n",
    "This id() represents the underlying memory address of the Python object, which is useful in caching immutable objects."
   ]
  },
  {
   "cell_type": "markdown",
   "id": "2634ffa6",
   "metadata": {},
   "source": [
    "# integer----Here id() value of ‘a’ and ‘b’ are same, they have the same integer value."
   ]
  },
  {
   "cell_type": "code",
   "execution_count": 21,
   "id": "053ac238",
   "metadata": {},
   "outputs": [
    {
     "name": "stdout",
     "output_type": "stream",
     "text": [
      "1923662768720\n",
      "1923662768720\n"
     ]
    }
   ],
   "source": [
    "a = 10\n",
    "print(id(a))\n",
    "\n",
    "b = 10\n",
    "print(id(b))"
   ]
  },
  {
   "cell_type": "code",
   "execution_count": 29,
   "id": "eaad9960",
   "metadata": {
    "scrolled": true
   },
   "outputs": [
    {
     "data": {
      "text/plain": [
       "True"
      ]
     },
     "execution_count": 29,
     "metadata": {},
     "output_type": "execute_result"
    }
   ],
   "source": [
    "id(a)==id(b)"
   ]
  },
  {
   "cell_type": "markdown",
   "id": "f108165e",
   "metadata": {},
   "source": [
    "# string------Here id() value of ‘c’ and ‘d’ are same, they have the same integer value."
   ]
  },
  {
   "cell_type": "code",
   "execution_count": 24,
   "id": "01dfb96a",
   "metadata": {},
   "outputs": [
    {
     "name": "stdout",
     "output_type": "stream",
     "text": [
      "1923743613616\n",
      "1923743613616\n"
     ]
    }
   ],
   "source": [
    "c = 'Aarti'\n",
    "print(id(c))\n",
    "\n",
    "d = 'Aarti'\n",
    "print(id(d))"
   ]
  },
  {
   "cell_type": "code",
   "execution_count": 30,
   "id": "2d1ef012",
   "metadata": {},
   "outputs": [
    {
     "data": {
      "text/plain": [
       "True"
      ]
     },
     "execution_count": 30,
     "metadata": {},
     "output_type": "execute_result"
    }
   ],
   "source": [
    "id(c)==id(d)"
   ]
  },
  {
   "cell_type": "markdown",
   "id": "e263d32f",
   "metadata": {},
   "source": [
    "# list----id() function not worked with mutable objects thats why 'e' and 'f' object returning different id values"
   ]
  },
  {
   "cell_type": "code",
   "execution_count": 33,
   "id": "440876b1",
   "metadata": {},
   "outputs": [
    {
     "name": "stdout",
     "output_type": "stream",
     "text": [
      "1923743674496\n",
      "1923743387136\n"
     ]
    }
   ],
   "source": [
    "e = [1,2,3,4,5]\n",
    "print(id(e))\n",
    "\n",
    "f = [1,2,3,4,5]\n",
    "print(id(f))"
   ]
  },
  {
   "cell_type": "code",
   "execution_count": 34,
   "id": "7332aa22",
   "metadata": {
    "scrolled": true
   },
   "outputs": [
    {
     "data": {
      "text/plain": [
       "False"
      ]
     },
     "execution_count": 34,
     "metadata": {},
     "output_type": "execute_result"
    }
   ],
   "source": [
    "id(e)==id(f)"
   ]
  },
  {
   "cell_type": "code",
   "execution_count": 63,
   "id": "11819f45",
   "metadata": {},
   "outputs": [
    {
     "data": {
      "text/plain": [
       "array([10,  2,  3,  4,  5])"
      ]
     },
     "execution_count": 63,
     "metadata": {},
     "output_type": "execute_result"
    }
   ],
   "source": [
    "import numpy as np\n",
    "z = np.array([10,2,3,4,5])\n",
    "z"
   ]
  },
  {
   "cell_type": "code",
   "execution_count": 64,
   "id": "1b50fe77",
   "metadata": {},
   "outputs": [
    {
     "name": "stdout",
     "output_type": "stream",
     "text": [
      "1923743674560\n",
      "1923744641536\n",
      "1923744641536\n",
      "1923744641536\n"
     ]
    },
    {
     "data": {
      "text/plain": [
       "True"
      ]
     },
     "execution_count": 64,
     "metadata": {},
     "output_type": "execute_result"
    }
   ],
   "source": [
    "x = [10,11,12,13]\n",
    "y = [10,11,12,13]\n",
    "print(id(x))\n",
    "print(id(y))\n",
    "x=y\n",
    "print(id(x))\n",
    "print(id(y))\n",
    "id(x)==id(y)"
   ]
  },
  {
   "cell_type": "markdown",
   "id": "969867f4",
   "metadata": {},
   "source": [
    "In above code you can see id value returning different address because id() function not worked with mutable objects.\n",
    "\n",
    "After assigning the list of x to y it now pointing the same location and then id value returns the same address."
   ]
  },
  {
   "cell_type": "code",
   "execution_count": 65,
   "id": "752d0a95",
   "metadata": {},
   "outputs": [
    {
     "name": "stdout",
     "output_type": "stream",
     "text": [
      "1923764674048\n",
      "1923764594432\n",
      "1923764674048\n",
      "1923764674048\n"
     ]
    },
    {
     "data": {
      "text/plain": [
       "True"
      ]
     },
     "execution_count": 65,
     "metadata": {},
     "output_type": "execute_result"
    }
   ],
   "source": [
    "x = [10,11,12,13]\n",
    "y = [10,11,12,13]\n",
    "print(id(x))\n",
    "print(id(y))\n",
    "y=x\n",
    "print(id(x))\n",
    "print(id(y))\n",
    "id(x)==id(y)"
   ]
  },
  {
   "cell_type": "code",
   "execution_count": 66,
   "id": "93fee7af",
   "metadata": {},
   "outputs": [
    {
     "name": "stdout",
     "output_type": "stream",
     "text": [
      "1923662768720\n",
      "1923662768720\n"
     ]
    }
   ],
   "source": [
    "x = [10,11,12,13]\n",
    "y = [10,11,12,13]\n",
    "print(id(x[0]))\n",
    "print(id(y[0]))"
   ]
  },
  {
   "cell_type": "code",
   "execution_count": 69,
   "id": "bedcf1cf",
   "metadata": {},
   "outputs": [
    {
     "name": "stdout",
     "output_type": "stream",
     "text": [
      "[10, 11, 12, 13] [10  2  3  4  5]\n"
     ]
    },
    {
     "data": {
      "text/plain": [
       "False"
      ]
     },
     "execution_count": 69,
     "metadata": {},
     "output_type": "execute_result"
    }
   ],
   "source": [
    "#id() function not worked with mutable objects.\n",
    "print(y,z)\n",
    "id(y[0]) == id(z[0])"
   ]
  },
  {
   "cell_type": "code",
   "execution_count": null,
   "id": "85339d33",
   "metadata": {},
   "outputs": [],
   "source": []
  },
  {
   "cell_type": "markdown",
   "id": "86201bd1",
   "metadata": {},
   "source": [
    "# dict----dict objects are returning different id() value and there seems no caching here."
   ]
  },
  {
   "cell_type": "code",
   "execution_count": 36,
   "id": "547fbfa6",
   "metadata": {},
   "outputs": [
    {
     "name": "stdout",
     "output_type": "stream",
     "text": [
      "1923743643840\n",
      "1923743642432\n"
     ]
    }
   ],
   "source": [
    "d1 = {'a':1,'b':2}\n",
    "d2 = {'a':1,'b':2}\n",
    "print(id(d1))\n",
    "print(id(d2))"
   ]
  },
  {
   "cell_type": "code",
   "execution_count": 37,
   "id": "3c21f8d3",
   "metadata": {},
   "outputs": [
    {
     "data": {
      "text/plain": [
       "False"
      ]
     },
     "execution_count": 37,
     "metadata": {},
     "output_type": "execute_result"
    }
   ],
   "source": [
    "id(d1)==id(d2)"
   ]
  },
  {
   "cell_type": "markdown",
   "id": "5f6967e7",
   "metadata": {},
   "source": [
    "#Caching can work only with immutable objects, notice that integer, string, tuples are immutable. So Python implementation can use caching to save memory space and improve performance."
   ]
  },
  {
   "cell_type": "markdown",
   "id": "ced9cdde",
   "metadata": {},
   "source": [
    "# doubts"
   ]
  },
  {
   "cell_type": "code",
   "execution_count": 27,
   "id": "0ffbf334",
   "metadata": {},
   "outputs": [
    {
     "name": "stdout",
     "output_type": "stream",
     "text": [
      "1923742877152\n",
      "1923743736912\n"
     ]
    }
   ],
   "source": [
    "#tuple\n",
    "g = (1,2,3,4,5)\n",
    "print(id(g))\n",
    "\n",
    "h = (1,2,3,4,5)\n",
    "print(id(h))"
   ]
  },
  {
   "cell_type": "code",
   "execution_count": 28,
   "id": "e9e29c48",
   "metadata": {},
   "outputs": [
    {
     "name": "stdout",
     "output_type": "stream",
     "text": [
      "1923743610864\n",
      "1923743609552\n"
     ]
    }
   ],
   "source": [
    "#float------------doubt\n",
    "s = 1.2\n",
    "print(id(s))\n",
    "\n",
    "t = 1.2\n",
    "print(id(t))"
   ]
  },
  {
   "cell_type": "code",
   "execution_count": null,
   "id": "900691c8",
   "metadata": {},
   "outputs": [],
   "source": []
  }
 ],
 "metadata": {
  "kernelspec": {
   "display_name": "Python 3 (ipykernel)",
   "language": "python",
   "name": "python3"
  },
  "language_info": {
   "codemirror_mode": {
    "name": "ipython",
    "version": 3
   },
   "file_extension": ".py",
   "mimetype": "text/x-python",
   "name": "python",
   "nbconvert_exporter": "python",
   "pygments_lexer": "ipython3",
   "version": "3.9.7"
  }
 },
 "nbformat": 4,
 "nbformat_minor": 5
}
